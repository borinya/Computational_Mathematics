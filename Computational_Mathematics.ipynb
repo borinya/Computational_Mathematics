{
 "cells": [
  {
   "cell_type": "code",
   "execution_count": 221,
   "metadata": {},
   "outputs": [],
   "source": [
    "import numpy as np\n",
    "import scipy\n",
    "from scipy.integrate import quad\n"
   ]
  },
  {
   "cell_type": "markdown",
   "metadata": {},
   "source": [
    "# Реализовать в Python инетгрирование функций одного переменного на заданном отрезке (выбирает пользователь).  Должны быть реализованы методы: Римана(прямоугольики), Трапеций, Симпсона, Монте-Карло. На вход методу  поступает функция от x, строка с методом интегрирования, а также кол-во точек разбиения"
   ]
  },
  {
   "cell_type": "markdown",
   "metadata": {},
   "source": [
    "# Определим функцию одной переменной, для примера взята $x^{2}$"
   ]
  },
  {
   "cell_type": "code",
   "execution_count": 222,
   "metadata": {},
   "outputs": [
    {
     "data": {
      "text/plain": [
       "16"
      ]
     },
     "execution_count": 222,
     "metadata": {},
     "output_type": "execute_result"
    }
   ],
   "source": [
    "def function_from_x(x):\n",
    "    return x**2\n",
    "\n",
    "function_from_x(4)"
   ]
  },
  {
   "cell_type": "markdown",
   "metadata": {},
   "source": [
    "# Метод Римана(прямоугольников) - реализован метод средних прямоугольников\n",
    "\n",
    "\n",
    "\n",
    "\n",
    "\n",
    "\\begin{equation}\n",
    "\\int_{a}^{b} f(x) d x \\approx \\sum_{i=1}^{N} f\\left(\\frac{x_{i-1}+x_{i}}{2}\\right) \\Delta x\n",
    "\\end{equation}\n",
    "\n",
    "## Посчитали все значения функции на сетке с меньшей размерностью и через срез посчитали сумму "
   ]
  },
  {
   "cell_type": "code",
   "execution_count": 324,
   "metadata": {},
   "outputs": [
    {
     "data": {
      "text/plain": [
       "385.8653531249999"
      ]
     },
     "execution_count": 324,
     "metadata": {},
     "output_type": "execute_result"
    }
   ],
   "source": [
    "def Riman(F, a, b, N):\n",
    "    h = (b-a)/N\n",
    "    grid_nodes = np.array(np.arange(a,b,h/2))\n",
    "    function_values = F(grid_nodes)\n",
    "    return np.sum(function_values[1::2]*h)\n",
    "\n",
    "Riman(function_from_x, 0, 10.5, 100)"
   ]
  },
  {
   "cell_type": "markdown",
   "metadata": {},
   "source": [
    "# Метод трапеции\n",
    "\\begin{equation}\n",
    "\\int_{a}^{b} f(x) d x \\approx \\sum_{i=1}^{N} \\frac{f\\left(x_{i-1}\\right)+f\\left(x_{i}\\right)}{2} \\Delta x_{i}\n",
    "\\end{equation}\n",
    "\n",
    "## каждый узел у нас суммируется дважды, кроме крайних, поэтому их вычли"
   ]
  },
  {
   "cell_type": "code",
   "execution_count": 349,
   "metadata": {},
   "outputs": [
    {
     "data": {
      "text/plain": [
       "385.7791100625"
      ]
     },
     "execution_count": 349,
     "metadata": {},
     "output_type": "execute_result"
    }
   ],
   "source": [
    "def Trapezoid(F, a, b, N):\n",
    "    h = (b-a)/N\n",
    "    grid_nodes = np.array(np.arange(a,b,h))\n",
    "    function_values = F(grid_nodes)\n",
    "    return (np.sum((function_values)*h)-(function_values[0]-function_values[-1])*h/2)\n",
    "\n",
    "trapezoid(function_from_x, 0, 10.5, 100)"
   ]
  },
  {
   "cell_type": "markdown",
   "metadata": {},
   "source": [
    "# Метод Симпсона\n",
    "\n",
    "\\begin{equation}\n",
    "\\int_{a}^{b} f(x) d x \\approx \\sum_{i=1}^{N} \\frac{f\\left(x_{i-1}\\right)+4 f\\left(\\frac{x_{i-1}+x_{i}}{2}\\right)+f\\left(x_{i}\\right)}{6} \\Delta x_{i}\n",
    "\\end{equation}\n",
    "\n",
    "\n",
    "\n",
    "## каждый промежуточный узел мы суммируем с коэфициентом $\\frac{4}{6}$ , каждый \"оригинальный узел\" с коэфициентом $\\frac{2}{6}$, кроме крайних, их с коэфициентом $ \\frac{1}{6} $, поэтому в конце вычли крайние "
   ]
  },
  {
   "cell_type": "code",
   "execution_count": 354,
   "metadata": {},
   "outputs": [
    {
     "data": {
      "text/plain": [
       "382.035495515625"
      ]
     },
     "execution_count": 354,
     "metadata": {},
     "output_type": "execute_result"
    }
   ],
   "source": [
    "def Simpson(F, a, b, N):\n",
    "    h = (b-a)/N\n",
    "    grid_nodes = np.array(np.arange(a,b,h/2))\n",
    "    function_values = F(grid_nodes)\n",
    "    return np.sum(function_values[0::2]*2*h/6) + np.sum(function_values[1::2]*4*h/6) - (function_values[0]+function_values[-1])*h/6\n",
    "\n",
    "Simpson(function_from_x, 0, 10.5, 100)"
   ]
  },
  {
   "cell_type": "markdown",
   "metadata": {},
   "source": [
    "# Метод Монте-Карло\n",
    "\n",
    "\n",
    "\\begin{equation}\n",
    "\\int_{a}^{b} f(x) d x \\approx \\frac{b-a}{N} \\sum_{i=1}^{N} f\\left(x_{i}\\right)\n",
    "\\end{equation}\n",
    "\n"
   ]
  },
  {
   "cell_type": "code",
   "execution_count": 356,
   "metadata": {},
   "outputs": [
    {
     "data": {
      "text/plain": [
       "380.10616875000005"
      ]
     },
     "execution_count": 356,
     "metadata": {},
     "output_type": "execute_result"
    }
   ],
   "source": [
    "def MonteCarlo(F, a, b, N):\n",
    "    h = (b-a)/N\n",
    "    grid_nodes = np.array(np.arange(a,b,h))\n",
    "    function_values = F(grid_nodes)\n",
    "    return np.sum(function_values*h)\n",
    "\n",
    "MonteCarlo(function_from_x, 0, 10.5, 100)"
   ]
  },
  {
   "cell_type": "markdown",
   "metadata": {},
   "source": [
    "# Проверка через стандартную функцию скипая"
   ]
  },
  {
   "cell_type": "code",
   "execution_count": 357,
   "metadata": {},
   "outputs": [
    {
     "data": {
      "text/plain": [
       "385.87499999999994"
      ]
     },
     "execution_count": 357,
     "metadata": {},
     "output_type": "execute_result"
    }
   ],
   "source": [
    "def scipy_strandart_intregral(F, a, b):\n",
    "    v, err = quad(F, a, b)\n",
    "    return v\n",
    "\n",
    "scipy_strandart_intregral(function_from_x, 0, 10.5)"
   ]
  },
  {
   "cell_type": "code",
   "execution_count": null,
   "metadata": {},
   "outputs": [],
   "source": []
  },
  {
   "cell_type": "code",
   "execution_count": null,
   "metadata": {},
   "outputs": [],
   "source": []
  },
  {
   "cell_type": "markdown",
   "metadata": {},
   "source": [
    "# Итоговая функция"
   ]
  },
  {
   "cell_type": "markdown",
   "metadata": {},
   "source": [
    "# Список методов интегрирования: \n",
    "# Riman, Trapezoid, Simpson, MonteCarlo"
   ]
  },
  {
   "cell_type": "code",
   "execution_count": 364,
   "metadata": {
    "scrolled": true
   },
   "outputs": [],
   "source": [
    "def main():\n",
    "    a = float(input(\"Введите начало отрезка интегрирования \"))\n",
    "    b = float(input(\"Введите конец отрезка интегрирования \"))\n",
    "    N = int(input(\"Введите количество узлов сетки \"))\n",
    "    integrable_function = input(\"Введите интегрируемую функцию \")\n",
    "    def function_from_x(x):\n",
    "        return eval(integrable_function)\n",
    "    method_to_integer = (input(\"Введите название метода интегрирования \")) \n",
    "    return print(\"Рассчитанное значение интеграла равно \", eval(method_to_integer+\"(function_from_x, a, b, N)\"))\n",
    "    #scipy_strandart_intregral(function_from_x, a,b)) расчет из скипая\n",
    "    \n"
   ]
  },
  {
   "cell_type": "code",
   "execution_count": 363,
   "metadata": {},
   "outputs": [
    {
     "name": "stdout",
     "output_type": "stream",
     "text": [
      "Введите начало отрезка интегрирования 0\n",
      "Введите конец отрезка интегрирования 10\n",
      "Введите количество узлов сетки 100\n",
      "Введите интегрируемую функцию x**2\n",
      "Введите название метода интегрирования Riman\n",
      "рассчитанное значение интеграла равно  333.32500000000005\n"
     ]
    }
   ],
   "source": [
    "main()"
   ]
  },
  {
   "cell_type": "code",
   "execution_count": null,
   "metadata": {},
   "outputs": [],
   "source": []
  },
  {
   "cell_type": "code",
   "execution_count": null,
   "metadata": {},
   "outputs": [],
   "source": []
  },
  {
   "cell_type": "code",
   "execution_count": null,
   "metadata": {},
   "outputs": [],
   "source": []
  },
  {
   "cell_type": "code",
   "execution_count": null,
   "metadata": {},
   "outputs": [],
   "source": []
  }
 ],
 "metadata": {
  "kernelspec": {
   "display_name": "Python 3",
   "language": "python",
   "name": "python3"
  },
  "language_info": {
   "codemirror_mode": {
    "name": "ipython",
    "version": 3
   },
   "file_extension": ".py",
   "mimetype": "text/x-python",
   "name": "python",
   "nbconvert_exporter": "python",
   "pygments_lexer": "ipython3",
   "version": "3.8.8"
  }
 },
 "nbformat": 4,
 "nbformat_minor": 2
}
